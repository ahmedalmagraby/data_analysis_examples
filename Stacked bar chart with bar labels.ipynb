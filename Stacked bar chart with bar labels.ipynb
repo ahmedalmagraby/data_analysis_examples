{
 "cells": [
  {
   "cell_type": "code",
   "execution_count": 1,
   "id": "d414e052-80fb-4ed5-8257-2910e2721073",
   "metadata": {},
   "outputs": [],
   "source": [
    "import pandas as pd\n",
    "import numpy as np\n",
    "import matplotlib.pyplot as plt\n",
    "%matplotlib inline"
   ]
  },
  {
   "cell_type": "code",
   "execution_count": 2,
   "id": "0041db8c-1d1c-45fd-bed5-b65adcbf3a8a",
   "metadata": {},
   "outputs": [],
   "source": [
    "df = pd.read_csv('test.csv')"
   ]
  },
  {
   "cell_type": "markdown",
   "id": "cdc02004-745d-467a-9f9a-7a86a7da9085",
   "metadata": {},
   "source": [
    "# Stacked bar chart with bar labels\n",
    "### requires matplotlib v3.4.1"
   ]
  },
  {
   "cell_type": "code",
   "execution_count": 3,
   "id": "46e78e84-276d-4d51-a38e-d47bea5ec6fd",
   "metadata": {},
   "outputs": [
    {
     "name": "stdout",
     "output_type": "stream",
     "text": [
      "<class 'pandas.core.frame.DataFrame'>\n",
      "RangeIndex: 23490 entries, 0 to 23489\n",
      "Data columns (total 13 columns):\n",
      " #   Column                Non-Null Count  Dtype  \n",
      "---  ------                --------------  -----  \n",
      " 0   employee_id           23490 non-null  int64  \n",
      " 1   department            23490 non-null  object \n",
      " 2   region                23490 non-null  object \n",
      " 3   education             22456 non-null  object \n",
      " 4   gender                23490 non-null  object \n",
      " 5   recruitment_channel   23490 non-null  object \n",
      " 6   no_of_trainings       23490 non-null  int64  \n",
      " 7   age                   23490 non-null  int64  \n",
      " 8   previous_year_rating  21678 non-null  float64\n",
      " 9   length_of_service     23490 non-null  int64  \n",
      " 10  KPIs_met >80%         23490 non-null  int64  \n",
      " 11  awards_won?           23490 non-null  int64  \n",
      " 12  avg_training_score    23490 non-null  int64  \n",
      "dtypes: float64(1), int64(7), object(5)\n",
      "memory usage: 2.3+ MB\n"
     ]
    }
   ],
   "source": [
    "df.info()"
   ]
  },
  {
   "cell_type": "code",
   "execution_count": 4,
   "id": "e3af5139-c96c-4e1d-b5bd-d7e5aff78b08",
   "metadata": {},
   "outputs": [],
   "source": [
    "df_m = df.query(\"gender == 'm'\")\n",
    "df_f = df.query(\"gender == 'f'\")"
   ]
  },
  {
   "cell_type": "code",
   "execution_count": 5,
   "id": "05031054-17df-4dd8-b82f-0ef1b2d785b7",
   "metadata": {},
   "outputs": [],
   "source": [
    "males = df_m.department.value_counts().sort_index()\n",
    "females = df_f.department.value_counts().sort_index()"
   ]
  },
  {
   "cell_type": "code",
   "execution_count": 6,
   "id": "b79b18ad-3c5e-4575-b3dc-9e4bce12e2d3",
   "metadata": {},
   "outputs": [
    {
     "data": {
      "text/plain": [
       "Analytics            2096\n",
       "Finance               820\n",
       "HR                    632\n",
       "Legal                 398\n",
       "Operations           2792\n",
       "Procurement          1661\n",
       "R&D                   415\n",
       "Sales & Marketing    5942\n",
       "Technology           1840\n",
       "Name: department, dtype: int64"
      ]
     },
     "execution_count": 6,
     "metadata": {},
     "output_type": "execute_result"
    }
   ],
   "source": [
    "males"
   ]
  },
  {
   "cell_type": "code",
   "execution_count": 7,
   "id": "7fc3058f-ddc1-4e64-86e3-c5f75688c7ab",
   "metadata": {},
   "outputs": [
    {
     "data": {
      "text/plain": [
       "Analytics             223\n",
       "Finance               271\n",
       "HR                    453\n",
       "Legal                  47\n",
       "Operations           1972\n",
       "Procurement          1359\n",
       "R&D                    25\n",
       "Sales & Marketing    1373\n",
       "Technology           1171\n",
       "Name: department, dtype: int64"
      ]
     },
     "execution_count": 7,
     "metadata": {},
     "output_type": "execute_result"
    }
   ],
   "source": [
    "females"
   ]
  },
  {
   "cell_type": "code",
   "execution_count": 8,
   "id": "7e61bb5f-3c8f-464d-81de-e1fb3de5e1e5",
   "metadata": {},
   "outputs": [
    {
     "data": {
      "text/plain": [
       "array([ True,  True,  True,  True,  True,  True,  True,  True,  True])"
      ]
     },
     "execution_count": 8,
     "metadata": {},
     "output_type": "execute_result"
    }
   ],
   "source": [
    "males.index == females.index"
   ]
  },
  {
   "cell_type": "code",
   "execution_count": 9,
   "id": "84d4922a-482e-4d28-8395-9f11bd1a9147",
   "metadata": {},
   "outputs": [],
   "source": [
    "labels = [x for x in males.index]"
   ]
  },
  {
   "cell_type": "code",
   "execution_count": 10,
   "id": "caf5fef9-cc1c-4e88-80f7-3d34c12aa264",
   "metadata": {},
   "outputs": [
    {
     "data": {
      "text/plain": [
       "['Analytics',\n",
       " 'Finance',\n",
       " 'HR',\n",
       " 'Legal',\n",
       " 'Operations',\n",
       " 'Procurement',\n",
       " 'R&D',\n",
       " 'Sales & Marketing',\n",
       " 'Technology']"
      ]
     },
     "execution_count": 10,
     "metadata": {},
     "output_type": "execute_result"
    }
   ],
   "source": [
    "labels"
   ]
  },
  {
   "cell_type": "code",
   "execution_count": 11,
   "id": "21f059ab-b0d1-46d5-a537-ca05e319928b",
   "metadata": {},
   "outputs": [],
   "source": [
    "male_counts = [x for x in males.values]"
   ]
  },
  {
   "cell_type": "code",
   "execution_count": 12,
   "id": "52863003-adb9-4ca3-b704-0281936327fb",
   "metadata": {},
   "outputs": [
    {
     "data": {
      "text/plain": [
       "[2096, 820, 632, 398, 2792, 1661, 415, 5942, 1840]"
      ]
     },
     "execution_count": 12,
     "metadata": {},
     "output_type": "execute_result"
    }
   ],
   "source": [
    "male_counts"
   ]
  },
  {
   "cell_type": "code",
   "execution_count": 13,
   "id": "b38ed3fe-794e-483d-b305-1a48b9ff2538",
   "metadata": {},
   "outputs": [],
   "source": [
    "female_counts = [x for x in females.values]"
   ]
  },
  {
   "cell_type": "code",
   "execution_count": 14,
   "id": "5a349644-1df3-43b3-be8d-7b536e60b29a",
   "metadata": {},
   "outputs": [
    {
     "data": {
      "text/plain": [
       "[223, 271, 453, 47, 1972, 1359, 25, 1373, 1171]"
      ]
     },
     "execution_count": 14,
     "metadata": {},
     "output_type": "execute_result"
    }
   ],
   "source": [
    "female_counts"
   ]
  },
  {
   "cell_type": "code",
   "execution_count": 15,
   "id": "1c1f8513-3938-48fd-8966-2dc5220fd966",
   "metadata": {},
   "outputs": [
    {
     "data": {
      "text/plain": [
       "<matplotlib.legend.Legend at 0x233b343d310>"
      ]
     },
     "execution_count": 15,
     "metadata": {},
     "output_type": "execute_result"
    },
    {
     "data": {
      "image/png": "[encoded data removed]",
      "text/plain": [
       "<Figure size 1008x720 with 1 Axes>"
      ]
     },
     "metadata": {
      "needs_background": "light"
     },
     "output_type": "display_data"
    }
   ],
   "source": [
    "x = np.arange(len(labels))  # the label locations\n",
    "width = 0.35  # the width of the bars\n",
    "fig, ax = plt.subplots(figsize=[14,10])\n",
    "p1 = ax.bar(labels, male_counts, width, label='Male')\n",
    "p2 = ax.bar(labels, female_counts, width, bottom=male_counts, label='Female')\n",
    "ax.set_ylabel('Count')\n",
    "ax.set_title('Count of employees in each department by gender')\n",
    "ax.set_xticks(x)\n",
    "ax.set_xticklabels(labels)\n",
    "ax.legend()\n",
    "ax.bar_label(p1, male_counts, label_type='center')\n",
    "ax.bar_label(p2, female_counts,label_type='center')\n",
    "ax.bar_label(p2, label_type='edge', padding=10)\n",
    "fig.tight_layout()\n",
    "ax.legend()"
   ]
  }
 ],
 "metadata": {
  "kernelspec": {
   "display_name": "Python 3",
   "language": "python",
   "name": "python3"
  },
  "language_info": {
   "codemirror_mode": {
    "name": "ipython",
    "version": 3
   },
   "file_extension": ".py",
   "mimetype": "text/x-python",
   "name": "python",
   "nbconvert_exporter": "python",
   "pygments_lexer": "ipython3",
   "version": "3.8.8"
  }
 },
 "nbformat": 4,
 "nbformat_minor": 5
}
