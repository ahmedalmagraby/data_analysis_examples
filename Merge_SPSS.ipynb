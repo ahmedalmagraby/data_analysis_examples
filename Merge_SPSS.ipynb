{
 "cells": [
  {
   "cell_type": "code",
   "execution_count": 1,
   "id": "60c1ced6-71df-4654-8798-246871bfde22",
   "metadata": {},
   "outputs": [],
   "source": [
    "import pandas as pd"
   ]
  },
  {
   "cell_type": "code",
   "execution_count": 2,
   "id": "85e231f6-a3bf-4b1d-be26-76293d18691c",
   "metadata": {},
   "outputs": [],
   "source": [
    "df_visit = pd.read_csv('147402398_bd_neom_bht_visit_beast.csv')\n",
    "df_live = pd.read_csv('147402398_bd_neom_bht_live_beast.csv')"
   ]
  },
  {
   "cell_type": "code",
   "execution_count": 3,
   "id": "379a724f-91cd-45d9-9ba0-0d0d7988d66f",
   "metadata": {},
   "outputs": [],
   "source": [
    "df_pivot_visit = df_visit.pivot(index=\"Respondent_Serial\", columns = \"brand\", values = [\"M_F_I\",\"D_F_I\",\"S_F_I\",\"Power\",\"PowerIndex\"])\n",
    "df_pivot_live = df_live.pivot(index=\"Respondent_Serial\", columns = \"brand\", values = [\"M_F_I\",\"D_F_I\",\"S_F_I\",\"Power\",\"PowerIndex\"])"
   ]
  },
  {
   "cell_type": "code",
   "execution_count": 4,
   "id": "15a98c44-b212-4388-a216-aba234c1ed2b",
   "metadata": {},
   "outputs": [],
   "source": [
    "df_pivot_tot = df_pivot_visit.merge(df_pivot_live, left_on='Respondent_Serial', right_on='Respondent_Serial', how='left')"
   ]
  },
  {
   "cell_type": "code",
   "execution_count": 5,
   "id": "81c89f88-075b-4292-bfd8-7ae743a7586f",
   "metadata": {},
   "outputs": [],
   "source": [
    "df_pivot_tot.to_excel(\"output.xlsx\")  "
   ]
  },
  {
   "cell_type": "code",
   "execution_count": null,
   "id": "1f18ca2d-015d-46f2-8780-7ae85e58d7a4",
   "metadata": {},
   "outputs": [],
   "source": []
  }
 ],
 "metadata": {
  "kernelspec": {
   "display_name": "Python 3 (ipykernel)",
   "language": "python",
   "name": "python3"
  },
  "language_info": {
   "codemirror_mode": {
    "name": "ipython",
    "version": 3
   },
   "file_extension": ".py",
   "mimetype": "text/x-python",
   "name": "python",
   "nbconvert_exporter": "python",
   "pygments_lexer": "ipython3",
   "version": "3.8.13"
  }
 },
 "nbformat": 4,
 "nbformat_minor": 5
}
